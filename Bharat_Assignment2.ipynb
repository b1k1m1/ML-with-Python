{
 "cells": [
  {
   "cell_type": "markdown",
   "metadata": {},
   "source": [
    "Write a Python Program to implement your own myreduce() function which works exactly like\n",
    "Python's built-in function reduce()"
   ]
  },
  {
   "cell_type": "code",
   "execution_count": 1,
   "metadata": {},
   "outputs": [
    {
     "name": "stdout",
     "output_type": "stream",
     "text": [
      "150\n"
     ]
    }
   ],
   "source": [
    "def add_number(a,b):\n",
    "    return a + b\n",
    "\n",
    "def myreduce(func, list1):\n",
    "    total = list1[0]\n",
    "    for i in list1[1:]:\n",
    "        total = func(total, i)\n",
    "    return total\n",
    "print(myreduce(add_number, [10,20,30,40,50]))"
   ]
  },
  {
   "cell_type": "markdown",
   "metadata": {},
   "source": [
    "Write a Python program to implement your own myfilter() function which works exactly like\n",
    "Python's built-in function filter()"
   ]
  },
  {
   "cell_type": "code",
   "execution_count": 2,
   "metadata": {},
   "outputs": [
    {
     "name": "stdout",
     "output_type": "stream",
     "text": [
      "[1, 3, 9, 11, 19]\n"
     ]
    }
   ],
   "source": [
    "def number_odd(x):\n",
    "    if x % 2 != 0:\n",
    "        return True\n",
    "    else:\n",
    "        return False\n",
    "\n",
    "print(list(filter (number_odd, [1, 3, 6, 8, 9, 11, 12, 19])))"
   ]
  },
  {
   "cell_type": "markdown",
   "metadata": {},
   "source": [
    "Implement List comprehensions to produce the following lists.\n",
    "\n",
    "Write List comprehensions to produce the following Lists \n",
    "\n",
    "['A', 'C', 'A', 'D', 'G', 'I', ’L’, ‘ D’]\n",
    "\n",
    "['x', 'xx', 'xxx', 'xxxx', 'y', 'yy', 'yyy', 'yyyy', 'z', 'zz', 'zzz', 'zzzz']\n",
    "\n",
    "['x', 'y', 'z', 'xx', 'yy', 'zz', 'xx', 'yy', 'zz', 'xxxx', 'yyyy', 'zzzz']\n",
    " \n",
    "[[2], [3], [4], [3], [4], [5], [4], [5], [6]]\n",
    "\n",
    "[[2, 3, 4, 5], [3, 4, 5, 6], [4, 5, 6, 7], [5, 6, 7, 8]]\n",
    "\n",
    "[(1, 1), (2, 1), (3, 1), (1, 2), (2, 2), (3, 2), (1, 3), (2, 3), (3, 3)]\n"
   ]
  },
  {
   "cell_type": "code",
   "execution_count": 3,
   "metadata": {},
   "outputs": [
    {
     "name": "stdout",
     "output_type": "stream",
     "text": [
      "['A', 'C', 'A', 'D', 'G', 'I', 'L', 'D']\n"
     ]
    }
   ],
   "source": [
    "string1 = 'ACADGILD'\n",
    "new_string1 = [chr for chr in string1]\n",
    "print(new_string1)"
   ]
  },
  {
   "cell_type": "code",
   "execution_count": 4,
   "metadata": {},
   "outputs": [
    {
     "name": "stdout",
     "output_type": "stream",
     "text": [
      "['x', 'xx', 'xxx', 'xxxx', 'y', 'yy', 'yyy', 'yyyy', 'z', 'zz', 'zzz', 'zzzz']\n"
     ]
    }
   ],
   "source": [
    "list1 = ['x','y','z']\n",
    "new_list = []\n",
    "new_list = [item*num for item in list1 for num in range(1,5)]\n",
    "\n",
    "print(new_list)"
   ]
  },
  {
   "cell_type": "code",
   "execution_count": 5,
   "metadata": {},
   "outputs": [
    {
     "name": "stdout",
     "output_type": "stream",
     "text": [
      "['x', 'y', 'z', 'xx', 'yy', 'zz', 'xxx', 'yyy', 'zzz', 'xxxx', 'yyyy', 'zzzz']\n"
     ]
    }
   ],
   "source": [
    "list1 = ['x','y','z']\n",
    "new_list = []\n",
    "new_list = [item*num for num in range(1,5) for item in list1]\n",
    "print(new_list)"
   ]
  },
  {
   "cell_type": "code",
   "execution_count": 8,
   "metadata": {},
   "outputs": [
    {
     "name": "stdout",
     "output_type": "stream",
     "text": [
      "[[2], [3], [4], [3], [4], [5], [4], [5], [6]]\n"
     ]
    }
   ],
   "source": [
    "list1 = [2, 3, 4]\n",
    "new_list = []\n",
    "new_list = [[item+num] for num in range(0,3) for item in list1]\n",
    "print(new_list)"
   ]
  },
  {
   "cell_type": "code",
   "execution_count": 9,
   "metadata": {},
   "outputs": [
    {
     "name": "stdout",
     "output_type": "stream",
     "text": [
      "[[2, 3, 4, 5], [3, 4, 5, 6], [4, 5, 6, 7], [5, 6, 7, 8]]\n"
     ]
    }
   ],
   "source": [
    "list1 = [2, 3, 4, 5]\n",
    "new_list = []\n",
    "new_list1 = []\n",
    "new_list = [[item+num for num in range(0,4)]for item in list1]\n",
    "print(new_list)"
   ]
  },
  {
   "cell_type": "code",
   "execution_count": 10,
   "metadata": {},
   "outputs": [
    {
     "name": "stdout",
     "output_type": "stream",
     "text": [
      "[(1, 1), (2, 1), (3, 1), (1, 2), (2, 2), (3, 2), (1, 3), (2, 3), (3, 3)]\n"
     ]
    }
   ],
   "source": [
    "list1 = [1,2,3]\n",
    "new_list1 = []\n",
    "new_list1 = [(y,x) for x in list1 for y in list1]\n",
    "print(new_list1)"
   ]
  },
  {
   "cell_type": "markdown",
   "metadata": {},
   "source": [
    "Implement a function longestWord() that takes a list of words and returns the longest one."
   ]
  },
  {
   "cell_type": "code",
   "execution_count": 11,
   "metadata": {},
   "outputs": [
    {
     "name": "stdout",
     "output_type": "stream",
     "text": [
      "Learning\n"
     ]
    }
   ],
   "source": [
    "def longestWord(string1):\n",
    "    list1 = string1.split()\n",
    "    long_word = max(list1, key=len)\n",
    "    return(long_word)\n",
    "\n",
    "print(longestWord('Welcome to the world of Machine Learning'))"
   ]
  },
  {
   "cell_type": "markdown",
   "metadata": {},
   "source": [
    "# Task 2"
   ]
  },
  {
   "cell_type": "markdown",
   "metadata": {},
   "source": [
    "Write a Python Program(with class concepts) to find the area of the triangle using the below\n",
    "formula.\n",
    "\n",
    "area = (s*(s-a)*(s-b)*(s-c)) ** 0.5\n",
    "\n",
    "Function to take the length of the sides of triangle from user should be defined in the parent\n",
    "class and function to calculate the area should be defined in subclass. \n"
   ]
  },
  {
   "cell_type": "code",
   "execution_count": 12,
   "metadata": {},
   "outputs": [
    {
     "name": "stdout",
     "output_type": "stream",
     "text": [
      "Enter length of first side : 20\n",
      "Enter length of second side : 20\n",
      "Enter length of third side : 10\n",
      "area =  96.82\n"
     ]
    }
   ],
   "source": [
    "class Triangle:\n",
    "    def __init__(self, a, b, c):\n",
    "        self.a = float(a)\n",
    "        self.b = float(b)\n",
    "        self.c = float(c)\n",
    "    def area(self):\n",
    "        s = (self.a+self.b+self.c) / 2\n",
    "        area = float(round((s*(s-self.a)*(s-self.b)*(s-self.c))**0.5, 2))\n",
    "        return area\n",
    "\n",
    "\n",
    "side1 = float(input(\"Enter length of first side : \"))\n",
    "##\n",
    "side2 = float(input(\"Enter length of second side : \"))\n",
    "##\n",
    "side3 = float(input(\"Enter length of third side : \"))\n",
    "##\n",
    "\n",
    "t1 = Triangle(side1,side2,side3)\n",
    "print('area = ', t1.area())\n"
   ]
  },
  {
   "cell_type": "markdown",
   "metadata": {},
   "source": [
    "Write a function filter_long_words() that takes a list of words and an integer n and returns the list\n",
    "of words that are longer than n."
   ]
  },
  {
   "cell_type": "code",
   "execution_count": 13,
   "metadata": {},
   "outputs": [
    {
     "name": "stdout",
     "output_type": "stream",
     "text": [
      "['Hello']\n"
     ]
    }
   ],
   "source": [
    "def filter_long_words(string1,num):\n",
    "    list1 = []\n",
    "    text = string1.split()\n",
    "    for i in range(len(text)):\n",
    "        if len(text[i]) > num:\n",
    "            list1.append(text[i])\n",
    "    return list1\n",
    "\n",
    "l1 = filter_long_words(\"Hello how are you\",4)\n",
    "print(l1)"
   ]
  },
  {
   "cell_type": "markdown",
   "metadata": {},
   "source": [
    "Write a Python program using function concept that maps  list of words into a list of integers\n",
    "representing the lengths of the corresponding words. \n",
    "\n",
    "Hint: If a list [ ab,cde,erty] is passed on to the python function output should come as [2,3,4]\n",
    "\n",
    "Here 2,3 and 4 are the lengths of the words in the list. "
   ]
  },
  {
   "cell_type": "code",
   "execution_count": 17,
   "metadata": {},
   "outputs": [
    {
     "name": "stdout",
     "output_type": "stream",
     "text": [
      "[8, 2, 2, 3, 2, 5]\n"
     ]
    }
   ],
   "source": [
    "def length_of_words(string1):\n",
    "\n",
    "    list1 = []\n",
    "    text = string1.split()\n",
    "    for i in range(len(text)):\n",
    "        list1.append(len(text[i]))\n",
    "    return list1\n",
    "\n",
    "l1 = length_of_words(\"Bengluru is IT hub of INDIA\")\n",
    "print(l1)"
   ]
  },
  {
   "cell_type": "markdown",
   "metadata": {},
   "source": [
    "Write a Python function which takes a character (i.e. a string of length 1) and returns True if it is\n",
    "a vowel, False otherwise."
   ]
  },
  {
   "cell_type": "code",
   "execution_count": 15,
   "metadata": {},
   "outputs": [
    {
     "name": "stdout",
     "output_type": "stream",
     "text": [
      "Enter a character: a\n",
      "True The character (a) you enter is a vowel\n"
     ]
    }
   ],
   "source": [
    "char1 = input(\"Enter a character: \")\n",
    "\n",
    "if(char1=='A' or char1=='a' or char1=='E' or char1=='e' or char1=='I'\n",
    " or char1=='i' or char1=='O' or char1=='o' or char1=='U' or char1=='u'):\n",
    "    t = True\n",
    "    print(\"{} The character ({}) you enter is a vowel\". format(t,char1))\n",
    "else:\n",
    "    t = False\n",
    "    print(\"{} The character ({}) you enter is not a vowel\". format(t,char1))"
   ]
  },
  {
   "cell_type": "code",
   "execution_count": 16,
   "metadata": {},
   "outputs": [
    {
     "name": "stdout",
     "output_type": "stream",
     "text": [
      "Enter a character: C\n",
      "False The character (C) you enter is not a vowel\n"
     ]
    }
   ],
   "source": [
    "char1 = input(\"Enter a character: \")\n",
    "\n",
    "if(char1=='A' or char1=='a' or char1=='E' or char1=='e' or char1=='I'\n",
    " or char1=='i' or char1=='O' or char1=='o' or char1=='U' or char1=='u'):\n",
    "    t = True\n",
    "    print(\"{} The character ({}) you enter is a vowel\". format(t,char1))\n",
    "else:\n",
    "    t = False\n",
    "    print(\"{} The character ({}) you enter is not a vowel\". format(t,char1))"
   ]
  },
  {
   "cell_type": "code",
   "execution_count": null,
   "metadata": {},
   "outputs": [],
   "source": []
  }
 ],
 "metadata": {
  "kernelspec": {
   "display_name": "Python 3",
   "language": "python",
   "name": "python3"
  },
  "language_info": {
   "codemirror_mode": {
    "name": "ipython",
    "version": 3
   },
   "file_extension": ".py",
   "mimetype": "text/x-python",
   "name": "python",
   "nbconvert_exporter": "python",
   "pygments_lexer": "ipython3",
   "version": "3.7.3"
  }
 },
 "nbformat": 4,
 "nbformat_minor": 2
}
